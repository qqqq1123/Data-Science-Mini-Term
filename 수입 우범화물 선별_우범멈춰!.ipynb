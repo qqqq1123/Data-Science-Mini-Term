{
 "cells": [
  {
   "cell_type": "markdown",
   "metadata": {},
   "source": [
    "# 수입 우범화물 선별 - MLPClassifier 모델"
   ]
  },
  {
   "cell_type": "markdown",
   "metadata": {},
   "source": [
    "# 1. 분석 환경 설정 및 데이터 로딩<a id='id1'></a> "
   ]
  },
  {
   "cell_type": "code",
   "execution_count": 1,
   "metadata": {},
   "outputs": [],
   "source": [
    "# 패키지 로딩\n",
    "import pickle\n",
    "import pandas as pd\n",
    "import numpy as np\n",
    "import matplotlib.pyplot as plt\n",
    "import seaborn as sns\n",
    "from difflib import SequenceMatcher\n",
    "import warnings\n",
    "warnings.filterwarnings(action='ignore')\n",
    "import platform\n",
    "        \n",
    "# 한글폰트 적용\n",
    "if platform.system() == 'Darwin': #맥\n",
    "        plt.rc('font', family='AppleGothic') \n",
    "    \n",
    "plt.rcParams['axes.unicode_minus'] = False #한글 폰트 사용시 마이너스 폰트 깨짐 해결"
   ]
  },
  {
   "cell_type": "code",
   "execution_count": 2,
   "metadata": {},
   "outputs": [],
   "source": [
    "# 수입 데이터 로딩 (가상데이터)\n",
    "df_train = pd.read_csv('/Users/mini/Desktop/train.csv')\n",
    "df_test = pd.read_csv('/Users/mini/Desktop/test.csv')\n",
    "df_submission = pd.read_csv('/Users/mini/Desktop/submission.csv')"
   ]
  },
  {
   "cell_type": "markdown",
   "metadata": {},
   "source": [
    "# 2. 데이터 전처리 <a id='id2'></a>"
   ]
  },
  {
   "cell_type": "markdown",
   "metadata": {},
   "source": [
    "## 2.1. 데이터 셋 확인"
   ]
  },
  {
   "cell_type": "code",
   "execution_count": 3,
   "metadata": {},
   "outputs": [
    {
     "data": {
      "text/plain": [
       "((76837, 24), (81058, 21), (23163, 2))"
      ]
     },
     "execution_count": 3,
     "metadata": {},
     "output_type": "execute_result"
    }
   ],
   "source": [
    "# 데이터 사이즈 확인\n",
    "df_train.shape, df_test.shape, df_submission.shape"
   ]
  },
  {
   "cell_type": "code",
   "execution_count": 4,
   "metadata": {},
   "outputs": [],
   "source": [
    "# 불필요한 변수 삭제\n",
    "del df_train['검사결과코드']\n",
    "del df_train['핵심적발']"
   ]
  },
  {
   "cell_type": "code",
   "execution_count": 5,
   "metadata": {},
   "outputs": [
    {
     "data": {
      "text/plain": [
       "Index(['신고번호', '우범여부'], dtype='object')"
      ]
     },
     "execution_count": 5,
     "metadata": {},
     "output_type": "execute_result"
    }
   ],
   "source": [
    "# submission.csv 칼럼 확인\n",
    "df_submission.columns"
   ]
  },
  {
   "cell_type": "code",
   "execution_count": null,
   "metadata": {},
   "outputs": [],
   "source": []
  },
  {
   "cell_type": "code",
   "execution_count": 6,
   "metadata": {},
   "outputs": [
    {
     "data": {
      "text/html": [
       "<div>\n",
       "<style scoped>\n",
       "    .dataframe tbody tr th:only-of-type {\n",
       "        vertical-align: middle;\n",
       "    }\n",
       "\n",
       "    .dataframe tbody tr th {\n",
       "        vertical-align: top;\n",
       "    }\n",
       "\n",
       "    .dataframe thead th {\n",
       "        text-align: right;\n",
       "    }\n",
       "</style>\n",
       "<table border=\"1\" class=\"dataframe\">\n",
       "  <thead>\n",
       "    <tr style=\"text-align: right;\">\n",
       "      <th></th>\n",
       "      <th>신고번호</th>\n",
       "      <th>우범여부</th>\n",
       "    </tr>\n",
       "  </thead>\n",
       "  <tbody>\n",
       "    <tr>\n",
       "      <th>0</th>\n",
       "      <td>71490948</td>\n",
       "      <td>0</td>\n",
       "    </tr>\n",
       "    <tr>\n",
       "      <th>1</th>\n",
       "      <td>44137011</td>\n",
       "      <td>0</td>\n",
       "    </tr>\n",
       "    <tr>\n",
       "      <th>2</th>\n",
       "      <td>73320079</td>\n",
       "      <td>0</td>\n",
       "    </tr>\n",
       "  </tbody>\n",
       "</table>\n",
       "</div>"
      ],
      "text/plain": [
       "       신고번호  우범여부\n",
       "0  71490948     0\n",
       "1  44137011     0\n",
       "2  73320079     0"
      ]
     },
     "execution_count": 6,
     "metadata": {},
     "output_type": "execute_result"
    }
   ],
   "source": [
    "df_submission.head(3)"
   ]
  },
  {
   "cell_type": "markdown",
   "metadata": {},
   "source": [
    "## 2.1.1 결측치 확인"
   ]
  },
  {
   "cell_type": "code",
   "execution_count": 7,
   "metadata": {},
   "outputs": [
    {
     "data": {
      "text/plain": [
       "신고번호            0\n",
       "신고일자            0\n",
       "통관지세관부호         0\n",
       "신고인부호           0\n",
       "수입자부호           8\n",
       "해외거래처부호     26293\n",
       "특송업체부호      51731\n",
       "수입통관계획코드        0\n",
       "수입신고구분코드        0\n",
       "수입거래구분코드        0\n",
       "수입종류코드          0\n",
       "징수형태코드          0\n",
       "신고중량(KG)        0\n",
       "과세가격원화금액        0\n",
       "운송수단유형코드        0\n",
       "반입보세구역부호        0\n",
       "HS10단위부호        0\n",
       "적출국가코드          0\n",
       "원산지국가코드         0\n",
       "관세율구분코드         0\n",
       "관세율             0\n",
       "우범여부            0\n",
       "dtype: int64"
      ]
     },
     "execution_count": 7,
     "metadata": {},
     "output_type": "execute_result"
    }
   ],
   "source": [
    "#결측치 확인\n",
    "df_train.isnull().sum()"
   ]
  },
  {
   "cell_type": "code",
   "execution_count": 8,
   "metadata": {},
   "outputs": [
    {
     "data": {
      "text/plain": [
       "신고번호        57895\n",
       "신고일자        57895\n",
       "통관지세관부호     57895\n",
       "신고인부호       57895\n",
       "수입자부호       57896\n",
       "해외거래처부호     65569\n",
       "특송업체부호      73325\n",
       "수입통관계획코드    57895\n",
       "수입신고구분코드    57895\n",
       "수입거래구분코드    57895\n",
       "수입종류코드      57895\n",
       "징수형태코드      57895\n",
       "신고중량(KG)    57895\n",
       "과세가격원화금액    57895\n",
       "운송수단유형코드    57895\n",
       "반입보세구역부호    57895\n",
       "HS10단위부호    57895\n",
       "적출국가코드      57895\n",
       "원산지국가코드     57895\n",
       "관세율구분코드     57895\n",
       "관세율         57895\n",
       "dtype: int64"
      ]
     },
     "execution_count": 8,
     "metadata": {},
     "output_type": "execute_result"
    }
   ],
   "source": [
    "df_test.isnull().sum()"
   ]
  },
  {
   "cell_type": "code",
   "execution_count": 9,
   "metadata": {},
   "outputs": [],
   "source": [
    "# 한 데이터당 NaN값 6개 이상인 데이터 삭제\n",
    "\n",
    "df_train = df_train.dropna(thresh=6)\n",
    "df_test = df_test.dropna(thresh=6)"
   ]
  },
  {
   "cell_type": "code",
   "execution_count": 10,
   "metadata": {},
   "outputs": [
    {
     "data": {
      "image/png": "[encoded data removed]",
      "text/plain": [
       "<Figure size 1296x576 with 2 Axes>"
      ]
     },
     "metadata": {
      "needs_background": "light"
     },
     "output_type": "display_data"
    }
   ],
   "source": [
    "# Target Label, '우범여부' 비율 확인\n",
    "\n",
    "f, ax = plt.subplots(1, 2, figsize=(18, 8))\n",
    "\n",
    "df_train['우범여부'].value_counts().plot.pie(explode=[0, 0.1], autopct='%1.1f%%', ax=ax[0], shadow=True)\n",
    "ax[0].set_title('Pie plot - 우범여부')\n",
    "ax[0].set_ylabel('')\n",
    "sns.countplot('우범여부', data=df_train, ax=ax[1])\n",
    "ax[1].set_title('Count plot - 우범여부')\n",
    "\n",
    "plt.show()"
   ]
  },
  {
   "cell_type": "markdown",
   "metadata": {},
   "source": [
    "## 2.2. 변수별 우범여부 관계 확인"
   ]
  },
  {
   "cell_type": "code",
   "execution_count": 11,
   "metadata": {},
   "outputs": [
    {
     "data": {
      "text/plain": [
       "<AxesSubplot:xlabel='날짜_월'>"
      ]
     },
     "execution_count": 11,
     "metadata": {},
     "output_type": "execute_result"
    },
    {
     "data": {
      "image/png": "[encoded data removed]",
      "text/plain": [
       "<Figure size 432x288 with 1 Axes>"
      ]
     },
     "metadata": {
      "needs_background": "light"
     },
     "output_type": "display_data"
    }
   ],
   "source": [
    "# 신고월별 우범여부 관계\n",
    "df_train['신고일자'] = pd.to_datetime(df_train['신고일자'])\n",
    "df_train['날짜_월'] = df_train['신고일자'].dt.month\n",
    "\n",
    "df_test['신고일자'] = pd.to_datetime(df_test['신고일자'])\n",
    "df_test['날짜_월'] = df_test['신고일자'].dt.month\n",
    "\n",
    "df_train[['날짜_월', '우범여부']].groupby(['날짜_월'], as_index=True).mean().plot.bar()\n",
    "\n",
    "# 월별 균일한 우범여부 -> 신고일자 칼럼 삭제"
   ]
  },
  {
   "cell_type": "code",
   "execution_count": 12,
   "metadata": {},
   "outputs": [
    {
     "data": {
      "text/plain": [
       "<AxesSubplot:xlabel='통관지세관부호'>"
      ]
     },
     "execution_count": 12,
     "metadata": {},
     "output_type": "execute_result"
    },
    {
     "data": {
      "image/png": "[encoded data removed]",
      "text/plain": [
       "<Figure size 432x288 with 1 Axes>"
      ]
     },
     "metadata": {
      "needs_background": "light"
     },
     "output_type": "display_data"
    }
   ],
   "source": [
    "# 통관지세관부호별 우범여부 \n",
    "df_train[['통관지세관부호', '우범여부']].groupby(['통관지세관부호'], as_index=True).mean().plot.bar()\n",
    "\n",
    "#지역별로 그룹핑"
   ]
  },
  {
   "cell_type": "code",
   "execution_count": 13,
   "metadata": {},
   "outputs": [
    {
     "data": {
      "text/plain": [
       "<AxesSubplot:xlabel='신고인부호'>"
      ]
     },
     "execution_count": 13,
     "metadata": {},
     "output_type": "execute_result"
    },
    {
     "data": {
      "image/png": "[encoded data removed]",
      "text/plain": [
       "<Figure size 432x288 with 1 Axes>"
      ]
     },
     "metadata": {
      "needs_background": "light"
     },
     "output_type": "display_data"
    }
   ],
   "source": [
    "# 신고인부호별 우범여부 \n",
    "df_train[['신고인부호', '우범여부']].groupby(['신고인부호'], as_index=True).mean().plot.bar()\n",
    "\n",
    "# 고차원 데이터 -> 신고인부호 칼럼 삭제"
   ]
  },
  {
   "cell_type": "code",
   "execution_count": 14,
   "metadata": {},
   "outputs": [
    {
     "data": {
      "text/plain": [
       "<AxesSubplot:xlabel='수입자부호'>"
      ]
     },
     "execution_count": 14,
     "metadata": {},
     "output_type": "execute_result"
    },
    {
     "data": {
      "image/png": "[encoded data removed]",
      "text/plain": [
       "<Figure size 432x288 with 1 Axes>"
      ]
     },
     "metadata": {
      "needs_background": "light"
     },
     "output_type": "display_data"
    }
   ],
   "source": [
    "# 수입자부호별 우범여부 \n",
    "df_train[['수입자부호', '우범여부']].groupby(['수입자부호'], as_index=True).mean().plot.bar()\n",
    "\n",
    "# 고차원 데이터 -> 수입자부호 칼럼 삭제"
   ]
  },
  {
   "cell_type": "code",
   "execution_count": 15,
   "metadata": {},
   "outputs": [
    {
     "data": {
      "text/plain": [
       "<AxesSubplot:xlabel='해외거래처부호'>"
      ]
     },
     "execution_count": 15,
     "metadata": {},
     "output_type": "execute_result"
    },
    {
     "data": {
      "image/png": "[encoded data removed]",
      "text/plain": [
       "<Figure size 432x288 with 1 Axes>"
      ]
     },
     "metadata": {
      "needs_background": "light"
     },
     "output_type": "display_data"
    }
   ],
   "source": [
    "# 해외거래처부호별 우범여부 \n",
    "df_train[['해외거래처부호', '우범여부']].groupby(['해외거래처부호'], as_index=True).mean().plot.bar()\n",
    "\n",
    "# 고차원 데이터 -> 해외거래처부호 칼럼 삭제"
   ]
  },
  {
   "cell_type": "code",
   "execution_count": 16,
   "metadata": {},
   "outputs": [
    {
     "data": {
      "text/plain": [
       "<AxesSubplot:xlabel='특송업체부호'>"
      ]
     },
     "execution_count": 16,
     "metadata": {},
     "output_type": "execute_result"
    },
    {
     "data": {
      "image/png": "[encoded data removed]",
      "text/plain": [
       "<Figure size 432x288 with 1 Axes>"
      ]
     },
     "metadata": {
      "needs_background": "light"
     },
     "output_type": "display_data"
    }
   ],
   "source": [
    "df_train[['특송업체부호', '우범여부']].groupby(['특송업체부호'], as_index=True).mean().plot.bar()\n",
    "\n",
    "# 특송업체부호는 앞서 결측치 확인 시 NaN값이 많았으므로 특송업체부호가 존재하는지 안하는지를\n",
    "# 1과 0으로 이진화 "
   ]
  },
  {
   "cell_type": "code",
   "execution_count": 17,
   "metadata": {},
   "outputs": [
    {
     "data": {
      "text/plain": [
       "<AxesSubplot:xlabel='수입거래구분코드'>"
      ]
     },
     "execution_count": 17,
     "metadata": {},
     "output_type": "execute_result"
    },
    {
     "data": {
      "image/png": "[encoded data removed]",
      "text/plain": [
       "<Figure size 432x288 with 1 Axes>"
      ]
     },
     "metadata": {
      "needs_background": "light"
     },
     "output_type": "display_data"
    }
   ],
   "source": [
    "# 수입거래구분코드별 우범여부 \n",
    "df_train[['수입거래구분코드', '우범여부']].groupby(['수입거래구분코드'], as_index=True).mean().plot.bar()\n",
    "\n",
    "# 우범률이 적은 데이터끼리 그룹핑"
   ]
  },
  {
   "cell_type": "code",
   "execution_count": 18,
   "metadata": {},
   "outputs": [
    {
     "data": {
      "text/plain": [
       "<AxesSubplot:xlabel='운송수단유형코드'>"
      ]
     },
     "execution_count": 18,
     "metadata": {},
     "output_type": "execute_result"
    },
    {
     "data": {
      "image/png": "[encoded data removed]",
      "text/plain": [
       "<Figure size 432x288 with 1 Axes>"
      ]
     },
     "metadata": {
      "needs_background": "light"
     },
     "output_type": "display_data"
    }
   ],
   "source": [
    "#운송수단유형코드별 우범여부\n",
    "df_train[['운송수단유형코드', '우범여부']].groupby(['운송수단유형코드'], as_index=True).mean().plot.bar()\n",
    "\n",
    "# 모델 학습 -> 예측 -> 성능 확인 결과 성능에 큰 영향을 미치지 않아 삭제 "
   ]
  },
  {
   "cell_type": "code",
   "execution_count": 19,
   "metadata": {},
   "outputs": [
    {
     "data": {
      "text/plain": [
       "<AxesSubplot:xlabel='반입보세구역부호'>"
      ]
     },
     "execution_count": 19,
     "metadata": {},
     "output_type": "execute_result"
    },
    {
     "data": {
      "image/png": "[encoded data removed]",
      "text/plain": [
       "<Figure size 432x288 with 1 Axes>"
      ]
     },
     "metadata": {
      "needs_background": "light"
     },
     "output_type": "display_data"
    }
   ],
   "source": [
    "#반입보세구역부호별 우범여부\n",
    "df_train[['반입보세구역부호', '우범여부']].groupby(['반입보세구역부호'], as_index=True).mean().plot.bar()\n",
    "\n",
    "# 고차원 데이터 -> 반입보세구역보호 칼럼 삭제 "
   ]
  },
  {
   "cell_type": "code",
   "execution_count": 20,
   "metadata": {},
   "outputs": [
    {
     "data": {
      "text/plain": [
       "<AxesSubplot:xlabel='적출국가코드'>"
      ]
     },
     "execution_count": 20,
     "metadata": {},
     "output_type": "execute_result"
    },
    {
     "data": {
      "image/png": "[encoded data removed]",
      "text/plain": [
       "<Figure size 432x288 with 1 Axes>"
      ]
     },
     "metadata": {
      "needs_background": "light"
     },
     "output_type": "display_data"
    }
   ],
   "source": [
    "#적출국가코드별 우범여부\n",
    "df_train[['적출국가코드', '우범여부']].groupby(['적출국가코드'], as_index=True).mean().plot.bar()\n",
    "\n",
    "# 고차원 데이터 -> 반입보세구역보호 칼럼 삭제 "
   ]
  },
  {
   "cell_type": "code",
   "execution_count": 21,
   "metadata": {},
   "outputs": [
    {
     "data": {
      "text/plain": [
       "<AxesSubplot:xlabel='원산지국가코드'>"
      ]
     },
     "execution_count": 21,
     "metadata": {},
     "output_type": "execute_result"
    },
    {
     "data": {
      "image/png": "[encoded data removed]",
      "text/plain": [
       "<Figure size 432x288 with 1 Axes>"
      ]
     },
     "metadata": {
      "needs_background": "light"
     },
     "output_type": "display_data"
    }
   ],
   "source": [
    "#원산지국가코드별 우범여부\n",
    "df_train[['원산지국가코드', '우범여부']].groupby(['원산지국가코드'], as_index=True).mean().plot.bar()\n",
    "\n",
    "# 고차원 데이터 -> 반입보세구역보호 칼럼 삭제 "
   ]
  },
  {
   "cell_type": "code",
   "execution_count": 22,
   "metadata": {},
   "outputs": [
    {
     "data": {
      "text/plain": [
       "<AxesSubplot:xlabel='관세율구분코드'>"
      ]
     },
     "execution_count": 22,
     "metadata": {},
     "output_type": "execute_result"
    },
    {
     "data": {
      "image/png": "[encoded data removed]",
      "text/plain": [
       "<Figure size 432x288 with 1 Axes>"
      ]
     },
     "metadata": {
      "needs_background": "light"
     },
     "output_type": "display_data"
    }
   ],
   "source": [
    "#관세율구분코드별 우범여부\n",
    "df_train[['관세율구분코드', '우범여부']].groupby(['관세율구분코드'], as_index=True).mean().plot.bar()\n",
    "\n",
    "# 관세율과 과세가격원화금액 칼럼 있어서 관세율구분코드는 삭제"
   ]
  },
  {
   "cell_type": "code",
   "execution_count": 23,
   "metadata": {},
   "outputs": [
    {
     "data": {
      "text/html": [
       "<div>\n",
       "<style scoped>\n",
       "    .dataframe tbody tr th:only-of-type {\n",
       "        vertical-align: middle;\n",
       "    }\n",
       "\n",
       "    .dataframe tbody tr th {\n",
       "        vertical-align: top;\n",
       "    }\n",
       "\n",
       "    .dataframe thead th {\n",
       "        text-align: right;\n",
       "    }\n",
       "</style>\n",
       "<table border=\"1\" class=\"dataframe\">\n",
       "  <thead>\n",
       "    <tr style=\"text-align: right;\">\n",
       "      <th></th>\n",
       "      <th>신고번호</th>\n",
       "      <th>신고일자</th>\n",
       "      <th>통관지세관부호</th>\n",
       "      <th>신고인부호</th>\n",
       "      <th>수입자부호</th>\n",
       "      <th>해외거래처부호</th>\n",
       "      <th>특송업체부호</th>\n",
       "      <th>수입통관계획코드</th>\n",
       "      <th>수입신고구분코드</th>\n",
       "      <th>수입거래구분코드</th>\n",
       "      <th>...</th>\n",
       "      <th>과세가격원화금액</th>\n",
       "      <th>운송수단유형코드</th>\n",
       "      <th>반입보세구역부호</th>\n",
       "      <th>HS10단위부호</th>\n",
       "      <th>적출국가코드</th>\n",
       "      <th>원산지국가코드</th>\n",
       "      <th>관세율구분코드</th>\n",
       "      <th>관세율</th>\n",
       "      <th>우범여부</th>\n",
       "      <th>날짜_월</th>\n",
       "    </tr>\n",
       "  </thead>\n",
       "  <tbody>\n",
       "    <tr>\n",
       "      <th>0</th>\n",
       "      <td>57298928</td>\n",
       "      <td>2020-01-01</td>\n",
       "      <td>121</td>\n",
       "      <td>2O5A2</td>\n",
       "      <td>82ZHWNL</td>\n",
       "      <td>NaN</td>\n",
       "      <td>TQ18AK</td>\n",
       "      <td>D</td>\n",
       "      <td>B</td>\n",
       "      <td>15</td>\n",
       "      <td>...</td>\n",
       "      <td>5397.965738</td>\n",
       "      <td>10</td>\n",
       "      <td>2106003</td>\n",
       "      <td>8481900000</td>\n",
       "      <td>US</td>\n",
       "      <td>US</td>\n",
       "      <td>A</td>\n",
       "      <td>8.0</td>\n",
       "      <td>1</td>\n",
       "      <td>1</td>\n",
       "    </tr>\n",
       "    <tr>\n",
       "      <th>1</th>\n",
       "      <td>85092852</td>\n",
       "      <td>2020-01-01</td>\n",
       "      <td>30</td>\n",
       "      <td>305K5</td>\n",
       "      <td>5IS70LE</td>\n",
       "      <td>NaN</td>\n",
       "      <td>NaN</td>\n",
       "      <td>C</td>\n",
       "      <td>B</td>\n",
       "      <td>11</td>\n",
       "      <td>...</td>\n",
       "      <td>573097.182500</td>\n",
       "      <td>40</td>\n",
       "      <td>4077010</td>\n",
       "      <td>2106909099</td>\n",
       "      <td>US</td>\n",
       "      <td>US</td>\n",
       "      <td>A</td>\n",
       "      <td>8.0</td>\n",
       "      <td>0</td>\n",
       "      <td>1</td>\n",
       "    </tr>\n",
       "  </tbody>\n",
       "</table>\n",
       "<p>2 rows × 23 columns</p>\n",
       "</div>"
      ],
      "text/plain": [
       "       신고번호       신고일자  통관지세관부호  신고인부호    수입자부호 해외거래처부호  특송업체부호 수입통관계획코드  \\\n",
       "0  57298928 2020-01-01      121  2O5A2  82ZHWNL     NaN  TQ18AK        D   \n",
       "1  85092852 2020-01-01       30  305K5  5IS70LE     NaN     NaN        C   \n",
       "\n",
       "  수입신고구분코드  수입거래구분코드  ...       과세가격원화금액  운송수단유형코드  반입보세구역부호    HS10단위부호  \\\n",
       "0        B        15  ...    5397.965738        10   2106003  8481900000   \n",
       "1        B        11  ...  573097.182500        40   4077010  2106909099   \n",
       "\n",
       "   적출국가코드  원산지국가코드  관세율구분코드  관세율 우범여부 날짜_월  \n",
       "0      US       US        A  8.0    1    1  \n",
       "1      US       US        A  8.0    0    1  \n",
       "\n",
       "[2 rows x 23 columns]"
      ]
     },
     "execution_count": 23,
     "metadata": {},
     "output_type": "execute_result"
    }
   ],
   "source": [
    "df_train.head(2)"
   ]
  },
  {
   "cell_type": "markdown",
   "metadata": {},
   "source": [
    "## 2.2. 수치형 변수 및 범주형 변수 지정 및 각 변수 전처리 "
   ]
  },
  {
   "cell_type": "code",
   "execution_count": 24,
   "metadata": {},
   "outputs": [],
   "source": [
    "# 통관지세관부호 데이터 수 및 지역별로 그룹핑\n",
    "def category_region(x):\n",
    "    if x == 10 or x== 41 or x==130:\n",
    "        return '서울특별시'\n",
    "    elif x == 40 or x==13 or x==20 or x == 23:\n",
    "        return '인천광역시'\n",
    "    elif x == 30 or x == 37 or x == 39 or x == 140:\n",
    "        return '부산광역시'\n",
    "    elif x == 11 or x==12 or x== 14 or x ==16 or x==17 or x== 21 or x==131:       \n",
    "        return '경기도'\n",
    "    elif x==100 or x== 101 or x== 102 or x== 103:\n",
    "        return '강원도'\n",
    "    elif x==84 or x== 152 or  x==154:\n",
    "        return '충청남도'\n",
    "    elif x==151 or x==154:\n",
    "        return '충청북도'\n",
    "    elif x==60 or x==62 or x==70:\n",
    "        return '전라남도'\n",
    "    elif x==80 or x==81 or x==82:\n",
    "        return '전라북도'\n",
    "    elif x==33 or x==50 or x==51 or x==52 or x==53 or x==54 or x==56:\n",
    "        return '경상남도'\n",
    "    elif x==123 or x==122:\n",
    "        return '경상북도'\n",
    "    elif x==150:\n",
    "        return '대전광역시'\n",
    "    elif x==120:\n",
    "        return '대구광역시'\n",
    "    elif x==110:\n",
    "        return '울산광역시'\n",
    "    elif x==71:\n",
    "        return '광주광역시'\n",
    "    elif x== 90:\n",
    "        return '제주'\n",
    "    \n",
    "df_train['통관지세관부호'] = df_train['통관지세관부호'].apply(category_region)\n",
    "df_test['통관지세관부호'] = df_test['통관지세관부호'].apply(category_region)    "
   ]
  },
  {
   "cell_type": "code",
   "execution_count": 25,
   "metadata": {},
   "outputs": [],
   "source": [
    "# train['수입거래구분코드'] 그룹핑, 데이터 수 10000개 이상 기준\n",
    "df_train['수입거래구분코드'] = df_train['수입거래구분코드'].replace([12, 13, 21, 22, 29, 51, 52, 55, 59, 71, 80, 83, 84, 85, 86, 88, 89, 92, 93, 96], 'ohters')\n",
    "df_test['수입거래구분코드'] = df_test['수입거래구분코드'].replace([12, 13, 21, 22, 29, 51, 52, 55, 59, 71, 80, 83, 84, 85, 86, 88, 89, 92, 93, 96], 'ohters')"
   ]
  },
  {
   "cell_type": "code",
   "execution_count": 26,
   "metadata": {},
   "outputs": [],
   "source": [
    "# NaN -> 0 으로 채움\n",
    "df_train = df_train.fillna('0')\n",
    "df_test = df_test.fillna('0')"
   ]
  },
  {
   "cell_type": "code",
   "execution_count": 27,
   "metadata": {},
   "outputs": [
    {
     "data": {
      "text/html": [
       "<div>\n",
       "<style scoped>\n",
       "    .dataframe tbody tr th:only-of-type {\n",
       "        vertical-align: middle;\n",
       "    }\n",
       "\n",
       "    .dataframe tbody tr th {\n",
       "        vertical-align: top;\n",
       "    }\n",
       "\n",
       "    .dataframe thead th {\n",
       "        text-align: right;\n",
       "    }\n",
       "</style>\n",
       "<table border=\"1\" class=\"dataframe\">\n",
       "  <thead>\n",
       "    <tr style=\"text-align: right;\">\n",
       "      <th></th>\n",
       "      <th>신고번호</th>\n",
       "      <th>신고일자</th>\n",
       "      <th>통관지세관부호</th>\n",
       "      <th>신고인부호</th>\n",
       "      <th>수입자부호</th>\n",
       "      <th>해외거래처부호</th>\n",
       "      <th>특송업체부호</th>\n",
       "      <th>수입통관계획코드</th>\n",
       "      <th>수입신고구분코드</th>\n",
       "      <th>수입거래구분코드</th>\n",
       "      <th>...</th>\n",
       "      <th>과세가격원화금액</th>\n",
       "      <th>운송수단유형코드</th>\n",
       "      <th>반입보세구역부호</th>\n",
       "      <th>HS10단위부호</th>\n",
       "      <th>적출국가코드</th>\n",
       "      <th>원산지국가코드</th>\n",
       "      <th>관세율구분코드</th>\n",
       "      <th>관세율</th>\n",
       "      <th>우범여부</th>\n",
       "      <th>날짜_월</th>\n",
       "    </tr>\n",
       "  </thead>\n",
       "  <tbody>\n",
       "    <tr>\n",
       "      <th>0</th>\n",
       "      <td>57298928</td>\n",
       "      <td>2020-01-01</td>\n",
       "      <td>0</td>\n",
       "      <td>2O5A2</td>\n",
       "      <td>82ZHWNL</td>\n",
       "      <td>0</td>\n",
       "      <td>1</td>\n",
       "      <td>D</td>\n",
       "      <td>B</td>\n",
       "      <td>15</td>\n",
       "      <td>...</td>\n",
       "      <td>5397.965738</td>\n",
       "      <td>10</td>\n",
       "      <td>2106003</td>\n",
       "      <td>8481900000</td>\n",
       "      <td>US</td>\n",
       "      <td>US</td>\n",
       "      <td>A</td>\n",
       "      <td>8.0</td>\n",
       "      <td>1</td>\n",
       "      <td>1</td>\n",
       "    </tr>\n",
       "    <tr>\n",
       "      <th>1</th>\n",
       "      <td>85092852</td>\n",
       "      <td>2020-01-01</td>\n",
       "      <td>부산광역시</td>\n",
       "      <td>305K5</td>\n",
       "      <td>5IS70LE</td>\n",
       "      <td>0</td>\n",
       "      <td>0</td>\n",
       "      <td>C</td>\n",
       "      <td>B</td>\n",
       "      <td>11</td>\n",
       "      <td>...</td>\n",
       "      <td>573097.182500</td>\n",
       "      <td>40</td>\n",
       "      <td>4077010</td>\n",
       "      <td>2106909099</td>\n",
       "      <td>US</td>\n",
       "      <td>US</td>\n",
       "      <td>A</td>\n",
       "      <td>8.0</td>\n",
       "      <td>0</td>\n",
       "      <td>1</td>\n",
       "    </tr>\n",
       "    <tr>\n",
       "      <th>2</th>\n",
       "      <td>63014158</td>\n",
       "      <td>2020-01-01</td>\n",
       "      <td>인천광역시</td>\n",
       "      <td>CGMT6</td>\n",
       "      <td>GJ5KBL3</td>\n",
       "      <td>R9ZQOG7</td>\n",
       "      <td>0</td>\n",
       "      <td>D</td>\n",
       "      <td>B</td>\n",
       "      <td>11</td>\n",
       "      <td>...</td>\n",
       "      <td>52194.888730</td>\n",
       "      <td>40</td>\n",
       "      <td>4077007</td>\n",
       "      <td>6307909000</td>\n",
       "      <td>US</td>\n",
       "      <td>US</td>\n",
       "      <td>A</td>\n",
       "      <td>10.0</td>\n",
       "      <td>0</td>\n",
       "      <td>1</td>\n",
       "    </tr>\n",
       "  </tbody>\n",
       "</table>\n",
       "<p>3 rows × 23 columns</p>\n",
       "</div>"
      ],
      "text/plain": [
       "       신고번호       신고일자 통관지세관부호  신고인부호    수입자부호  해외거래처부호 특송업체부호 수입통관계획코드  \\\n",
       "0  57298928 2020-01-01       0  2O5A2  82ZHWNL        0      1        D   \n",
       "1  85092852 2020-01-01   부산광역시  305K5  5IS70LE        0      0        C   \n",
       "2  63014158 2020-01-01   인천광역시  CGMT6  GJ5KBL3  R9ZQOG7      0        D   \n",
       "\n",
       "  수입신고구분코드 수입거래구분코드  ...       과세가격원화금액  운송수단유형코드  반입보세구역부호    HS10단위부호  \\\n",
       "0        B       15  ...    5397.965738        10   2106003  8481900000   \n",
       "1        B       11  ...  573097.182500        40   4077010  2106909099   \n",
       "2        B       11  ...   52194.888730        40   4077007  6307909000   \n",
       "\n",
       "   적출국가코드  원산지국가코드  관세율구분코드   관세율 우범여부 날짜_월  \n",
       "0      US       US        A   8.0    1    1  \n",
       "1      US       US        A   8.0    0    1  \n",
       "2      US       US        A  10.0    0    1  \n",
       "\n",
       "[3 rows x 23 columns]"
      ]
     },
     "execution_count": 27,
     "metadata": {},
     "output_type": "execute_result"
    }
   ],
   "source": [
    "# 특송업체부호 존재할 시 1, 존재하지 않을 시 0 으로 이진화\n",
    "def category_bin(x):\n",
    "    \n",
    "    if x != '0':\n",
    "        return '1'\n",
    "    else:\n",
    "        return '0'\n",
    "    \n",
    "df_train['특송업체부호'] = df_train['특송업체부호'].apply(category_bin)\n",
    "df_test['특송업체부호'] = df_test['특송업체부호'].apply(category_bin) \n",
    "\n",
    "# 트레인데이터 샘플 확인\n",
    "df_train.head(3)"
   ]
  },
  {
   "cell_type": "code",
   "execution_count": 28,
   "metadata": {},
   "outputs": [
    {
     "data": {
      "text/plain": [
       "Index(['신고번호', '신고일자', '통관지세관부호', '신고인부호', '수입자부호', '해외거래처부호', '특송업체부호',\n",
       "       '수입통관계획코드', '수입신고구분코드', '수입거래구분코드', '수입종류코드', '징수형태코드', '신고중량(KG)',\n",
       "       '과세가격원화금액', '운송수단유형코드', '반입보세구역부호', 'HS10단위부호', '적출국가코드', '원산지국가코드',\n",
       "       '관세율구분코드', '관세율', '우범여부', '날짜_월'],\n",
       "      dtype='object')"
      ]
     },
     "execution_count": 28,
     "metadata": {},
     "output_type": "execute_result"
    }
   ],
   "source": [
    "df_train.columns"
   ]
  },
  {
   "cell_type": "code",
   "execution_count": 29,
   "metadata": {},
   "outputs": [
    {
     "data": {
      "text/plain": [
       "(76837, 23)"
      ]
     },
     "execution_count": 29,
     "metadata": {},
     "output_type": "execute_result"
    }
   ],
   "source": [
    "df_train.shape"
   ]
  },
  {
   "cell_type": "code",
   "execution_count": 30,
   "metadata": {},
   "outputs": [],
   "source": [
    "# 변수 삭제\n",
    "df_train.drop(['신고번호', '신고일자', '신고인부호', '수입자부호', '해외거래처부호','적출국가코드','원산지국가코드', 'HS10단위부호','반입보세구역부호','관세율구분코드','운송수단유형코드','날짜_월'], axis=1, inplace=True)\n",
    "df_test.drop(['신고번호', '신고일자', '신고인부호', '수입자부호', '해외거래처부호','적출국가코드','원산지국가코드','HS10단위부호', '반입보세구역부호','관세율구분코드','운송수단유형코드','날짜_월'], axis=1, inplace=True)"
   ]
  },
  {
   "cell_type": "code",
   "execution_count": 31,
   "metadata": {},
   "outputs": [
    {
     "data": {
      "text/html": [
       "<div>\n",
       "<style scoped>\n",
       "    .dataframe tbody tr th:only-of-type {\n",
       "        vertical-align: middle;\n",
       "    }\n",
       "\n",
       "    .dataframe tbody tr th {\n",
       "        vertical-align: top;\n",
       "    }\n",
       "\n",
       "    .dataframe thead th {\n",
       "        text-align: right;\n",
       "    }\n",
       "</style>\n",
       "<table border=\"1\" class=\"dataframe\">\n",
       "  <thead>\n",
       "    <tr style=\"text-align: right;\">\n",
       "      <th></th>\n",
       "      <th>통관지세관부호</th>\n",
       "      <th>특송업체부호</th>\n",
       "      <th>수입통관계획코드</th>\n",
       "      <th>수입신고구분코드</th>\n",
       "      <th>수입거래구분코드</th>\n",
       "      <th>수입종류코드</th>\n",
       "      <th>징수형태코드</th>\n",
       "      <th>신고중량(KG)</th>\n",
       "      <th>과세가격원화금액</th>\n",
       "      <th>관세율</th>\n",
       "    </tr>\n",
       "  </thead>\n",
       "  <tbody>\n",
       "    <tr>\n",
       "      <th>0</th>\n",
       "      <td>인천광역시</td>\n",
       "      <td>0</td>\n",
       "      <td>F</td>\n",
       "      <td>B</td>\n",
       "      <td>11</td>\n",
       "      <td>21.0</td>\n",
       "      <td>11.0</td>\n",
       "      <td>2555.1</td>\n",
       "      <td>1.931589e+04</td>\n",
       "      <td>8.0</td>\n",
       "    </tr>\n",
       "    <tr>\n",
       "      <th>1</th>\n",
       "      <td>경기도</td>\n",
       "      <td>0</td>\n",
       "      <td>C</td>\n",
       "      <td>B</td>\n",
       "      <td>11</td>\n",
       "      <td>21.0</td>\n",
       "      <td>11.0</td>\n",
       "      <td>4010.0</td>\n",
       "      <td>5.373710e+05</td>\n",
       "      <td>40.0</td>\n",
       "    </tr>\n",
       "    <tr>\n",
       "      <th>2</th>\n",
       "      <td>인천광역시</td>\n",
       "      <td>0</td>\n",
       "      <td>C</td>\n",
       "      <td>B</td>\n",
       "      <td>11</td>\n",
       "      <td>21.0</td>\n",
       "      <td>11.0</td>\n",
       "      <td>4013.3</td>\n",
       "      <td>1.047361e+06</td>\n",
       "      <td>0.0</td>\n",
       "    </tr>\n",
       "  </tbody>\n",
       "</table>\n",
       "</div>"
      ],
      "text/plain": [
       "  통관지세관부호 특송업체부호 수입통관계획코드 수입신고구분코드 수입거래구분코드  수입종류코드  징수형태코드  신고중량(KG)  \\\n",
       "0   인천광역시      0        F        B       11    21.0    11.0    2555.1   \n",
       "1     경기도      0        C        B       11    21.0    11.0    4010.0   \n",
       "2   인천광역시      0        C        B       11    21.0    11.0    4013.3   \n",
       "\n",
       "       과세가격원화금액   관세율  \n",
       "0  1.931589e+04   8.0  \n",
       "1  5.373710e+05  40.0  \n",
       "2  1.047361e+06   0.0  "
      ]
     },
     "execution_count": 31,
     "metadata": {},
     "output_type": "execute_result"
    }
   ],
   "source": [
    "df_test.head(3)"
   ]
  },
  {
   "cell_type": "code",
   "execution_count": 32,
   "metadata": {},
   "outputs": [
    {
     "data": {
      "text/html": [
       "<div>\n",
       "<style scoped>\n",
       "    .dataframe tbody tr th:only-of-type {\n",
       "        vertical-align: middle;\n",
       "    }\n",
       "\n",
       "    .dataframe tbody tr th {\n",
       "        vertical-align: top;\n",
       "    }\n",
       "\n",
       "    .dataframe thead th {\n",
       "        text-align: right;\n",
       "    }\n",
       "</style>\n",
       "<table border=\"1\" class=\"dataframe\">\n",
       "  <thead>\n",
       "    <tr style=\"text-align: right;\">\n",
       "      <th></th>\n",
       "      <th>통관지세관부호</th>\n",
       "      <th>특송업체부호</th>\n",
       "      <th>수입통관계획코드</th>\n",
       "      <th>수입신고구분코드</th>\n",
       "      <th>수입거래구분코드</th>\n",
       "      <th>수입종류코드</th>\n",
       "      <th>징수형태코드</th>\n",
       "      <th>신고중량(KG)</th>\n",
       "      <th>과세가격원화금액</th>\n",
       "      <th>관세율</th>\n",
       "      <th>우범여부</th>\n",
       "    </tr>\n",
       "  </thead>\n",
       "  <tbody>\n",
       "    <tr>\n",
       "      <th>54126</th>\n",
       "      <td>인천광역시</td>\n",
       "      <td>0</td>\n",
       "      <td>C</td>\n",
       "      <td>B</td>\n",
       "      <td>11</td>\n",
       "      <td>21</td>\n",
       "      <td>43</td>\n",
       "      <td>22325.4</td>\n",
       "      <td>1.835701e+06</td>\n",
       "      <td>0.0</td>\n",
       "      <td>0</td>\n",
       "    </tr>\n",
       "    <tr>\n",
       "      <th>1825</th>\n",
       "      <td>인천광역시</td>\n",
       "      <td>0</td>\n",
       "      <td>D</td>\n",
       "      <td>B</td>\n",
       "      <td>11</td>\n",
       "      <td>21</td>\n",
       "      <td>11</td>\n",
       "      <td>8631.6</td>\n",
       "      <td>8.954427e+05</td>\n",
       "      <td>135.0</td>\n",
       "      <td>0</td>\n",
       "    </tr>\n",
       "    <tr>\n",
       "      <th>9622</th>\n",
       "      <td>인천광역시</td>\n",
       "      <td>0</td>\n",
       "      <td>F</td>\n",
       "      <td>B</td>\n",
       "      <td>15</td>\n",
       "      <td>21</td>\n",
       "      <td>11</td>\n",
       "      <td>7027.3</td>\n",
       "      <td>6.830626e+07</td>\n",
       "      <td>4.8</td>\n",
       "      <td>0</td>\n",
       "    </tr>\n",
       "  </tbody>\n",
       "</table>\n",
       "</div>"
      ],
      "text/plain": [
       "      통관지세관부호 특송업체부호 수입통관계획코드 수입신고구분코드 수입거래구분코드  수입종류코드  징수형태코드  신고중량(KG)  \\\n",
       "54126   인천광역시      0        C        B       11      21      43   22325.4   \n",
       "1825    인천광역시      0        D        B       11      21      11    8631.6   \n",
       "9622    인천광역시      0        F        B       15      21      11    7027.3   \n",
       "\n",
       "           과세가격원화금액    관세율  우범여부  \n",
       "54126  1.835701e+06    0.0     0  \n",
       "1825   8.954427e+05  135.0     0  \n",
       "9622   6.830626e+07    4.8     0  "
      ]
     },
     "execution_count": 32,
     "metadata": {},
     "output_type": "execute_result"
    }
   ],
   "source": [
    "# 트레인데이터 샘플 확인\n",
    "df_train.sample(3)"
   ]
  },
  {
   "cell_type": "code",
   "execution_count": 33,
   "metadata": {},
   "outputs": [],
   "source": [
    "# 범주형 변수 지정\n",
    "discrete_columns = [ '통관지세관부호', '수입통관계획코드', \n",
    "       '수입신고구분코드', '수입거래구분코드','특송업체부호',\n",
    "       '수입종류코드', '징수형태코드']\n",
    "\n",
    "# 범주형 변수들을 문자열로 지정 ('object' -> 'string')\n",
    "for var in discrete_columns:\n",
    "    df_train[var] = df_train[var].astype(str)\n",
    "    df_test[var] = df_test[var].astype(str)\n",
    "    "
   ]
  },
  {
   "cell_type": "code",
   "execution_count": 34,
   "metadata": {},
   "outputs": [],
   "source": [
    "# 수치형 변수 지정\n",
    "numeric_columns = ['신고중량(KG)', '우범여부', '과세가격원화금액','관세율']\n",
    "\n",
    "# 수치형 변수를 자연로그로 변환\n",
    "for var in ['신고중량(KG)','과세가격원화금액']:\n",
    "    df_train[var] = df_train[var].apply(lambda x: np.log1p(x))\n",
    "    df_test[var] = df_test[var].apply(lambda x: np.log1p(x))"
   ]
  },
  {
   "cell_type": "code",
   "execution_count": 35,
   "metadata": {
    "scrolled": true
   },
   "outputs": [
    {
     "name": "stdout",
     "output_type": "stream",
     "text": [
      "{'0': 1, '부산광역시': 2, '인천광역시': 3, '서울특별시': 4, '대전광역시': 5, '경상남도': 6, '전라북도': 7, '전라남도': 8, '경기도': 9, '충청남도': 10, '대구광역시': 11, '충청북도': 12, '경상북도': 13, '제주': 14, '강원도': 15, '광주광역시': 16, '울산광역시': 17}\n",
      "{'D': 1, 'C': 2, 'B': 3, 'E': 4, 'F': 5, 'H': 6, 'Z': 7}\n",
      "{'B': 1, 'D': 2, 'A': 3, 'E': 4}\n",
      "{'15': 1, '11': 2, '94': 3, '87': 4, '91': 5, 'ohters': 6}\n",
      "{'1': 1, '0': 2}\n",
      "{'23': 1, '21': 2, '14': 3, '11': 4, '26': 5, '15': 6, '28': 7, '12': 8, '13': 9, '27': 10}\n",
      "{'43': 1, '11': 2, '18': 3, '14': 4, '0': 5, '21': 6, '33': 7, '13': 8, '12': 9}\n",
      "{'통관지세관부호': {'0': 1, '부산광역시': 2, '인천광역시': 3, '서울특별시': 4, '대전광역시': 5, '경상남도': 6, '전라북도': 7, '전라남도': 8, '경기도': 9, '충청남도': 10, '대구광역시': 11, '충청북도': 12, '경상북도': 13, '제주': 14, '강원도': 15, '광주광역시': 16, '울산광역시': 17}, '수입통관계획코드': {'D': 1, 'C': 2, 'B': 3, 'E': 4, 'F': 5, 'H': 6, 'Z': 7}, '수입신고구분코드': {'B': 1, 'D': 2, 'A': 3, 'E': 4}, '수입거래구분코드': {'15': 1, '11': 2, '94': 3, '87': 4, '91': 5, 'ohters': 6}, '특송업체부호': {'1': 1, '0': 2}, '수입종류코드': {'23': 1, '21': 2, '14': 3, '11': 4, '26': 5, '15': 6, '28': 7, '12': 8, '13': 9, '27': 10}, '징수형태코드': {'43': 1, '11': 2, '18': 3, '14': 4, '0': 5, '21': 6, '33': 7, '13': 8, '12': 9}}\n"
     ]
    }
   ],
   "source": [
    "# 범주형 변수 전처리 1단계: label encoding --> 각 범주형 변수가 갖는 클래스에 고유의 식별번호 부여\n",
    "# 예) 수입자 상호: AAABB -> 1, 가나다라 -> 2, ...\n",
    "\n",
    "label_encoding_ref = {}\n",
    "for var in discrete_columns:\n",
    "    label_encoding_ref[var] = {code: i+1 for i, code in enumerate(df_train[var].unique())} # 0 padding for unseen data in test\n",
    "    print(label_encoding_ref[var])\n",
    "    df_train[var] = [label_encoding_ref[var][x] for x in df_train[var]]\n",
    "    df_test[var] = [label_encoding_ref[var].get(x,0) for x in df_test[var]]\n",
    "\n",
    "print(label_encoding_ref)\n",
    "df_train.reset_index(drop=True, inplace=True)\n",
    "df_test.reset_index(drop=True, inplace=True)\n"
   ]
  },
  {
   "cell_type": "code",
   "execution_count": 36,
   "metadata": {},
   "outputs": [],
   "source": [
    "# one-hot-encoding\n",
    "# 예) A,B,C 3개의 클래스가 있는 범주형 변수를 다음과 같이 변환\n",
    "# A -> [1,0,0] / B -> [0,1,0] / C -> [0,0,1]\n",
    "\n",
    "# 원핫인코더 로딩\n",
    "from sklearn.preprocessing import  OneHotEncoder\n",
    "# 원핫인코더 활성화\n",
    "xgbohe = OneHotEncoder(categories=\"auto\", handle_unknown='ignore')\n",
    "# 훈련데이터: 범주형 변수만 분리하여 원핫인코딩 적용\n",
    "train_cat = xgbohe.fit_transform(df_train[discrete_columns])\n",
    "train_cat = pd.DataFrame(train_cat.toarray(), \n",
    "                                columns = xgbohe.get_feature_names(discrete_columns))\n",
    "# 수치형 변수 분리\n",
    "train_num = df_train[numeric_columns]\n",
    "\n",
    "\n",
    "\n",
    "# 원핫인코딩된 범주형 변수와 수치형 변수 재결합\n",
    "train = pd.concat([train_num, train_cat], axis=1)"
   ]
  },
  {
   "cell_type": "code",
   "execution_count": 37,
   "metadata": {},
   "outputs": [
    {
     "data": {
      "text/html": [
       "<div>\n",
       "<style scoped>\n",
       "    .dataframe tbody tr th:only-of-type {\n",
       "        vertical-align: middle;\n",
       "    }\n",
       "\n",
       "    .dataframe tbody tr th {\n",
       "        vertical-align: top;\n",
       "    }\n",
       "\n",
       "    .dataframe thead th {\n",
       "        text-align: right;\n",
       "    }\n",
       "</style>\n",
       "<table border=\"1\" class=\"dataframe\">\n",
       "  <thead>\n",
       "    <tr style=\"text-align: right;\">\n",
       "      <th></th>\n",
       "      <th>신고중량(KG)</th>\n",
       "      <th>우범여부</th>\n",
       "      <th>과세가격원화금액</th>\n",
       "      <th>관세율</th>\n",
       "      <th>통관지세관부호_1</th>\n",
       "      <th>통관지세관부호_2</th>\n",
       "      <th>통관지세관부호_3</th>\n",
       "      <th>통관지세관부호_4</th>\n",
       "      <th>통관지세관부호_5</th>\n",
       "      <th>통관지세관부호_6</th>\n",
       "      <th>...</th>\n",
       "      <th>수입종류코드_10</th>\n",
       "      <th>징수형태코드_1</th>\n",
       "      <th>징수형태코드_2</th>\n",
       "      <th>징수형태코드_3</th>\n",
       "      <th>징수형태코드_4</th>\n",
       "      <th>징수형태코드_5</th>\n",
       "      <th>징수형태코드_6</th>\n",
       "      <th>징수형태코드_7</th>\n",
       "      <th>징수형태코드_8</th>\n",
       "      <th>징수형태코드_9</th>\n",
       "    </tr>\n",
       "  </thead>\n",
       "  <tbody>\n",
       "    <tr>\n",
       "      <th>0</th>\n",
       "      <td>4.844187</td>\n",
       "      <td>1</td>\n",
       "      <td>8.593963</td>\n",
       "      <td>8.0</td>\n",
       "      <td>1.0</td>\n",
       "      <td>0.0</td>\n",
       "      <td>0.0</td>\n",
       "      <td>0.0</td>\n",
       "      <td>0.0</td>\n",
       "      <td>0.0</td>\n",
       "      <td>...</td>\n",
       "      <td>0.0</td>\n",
       "      <td>1.0</td>\n",
       "      <td>0.0</td>\n",
       "      <td>0.0</td>\n",
       "      <td>0.0</td>\n",
       "      <td>0.0</td>\n",
       "      <td>0.0</td>\n",
       "      <td>0.0</td>\n",
       "      <td>0.0</td>\n",
       "      <td>0.0</td>\n",
       "    </tr>\n",
       "    <tr>\n",
       "      <th>1</th>\n",
       "      <td>10.303820</td>\n",
       "      <td>0</td>\n",
       "      <td>13.258812</td>\n",
       "      <td>8.0</td>\n",
       "      <td>0.0</td>\n",
       "      <td>1.0</td>\n",
       "      <td>0.0</td>\n",
       "      <td>0.0</td>\n",
       "      <td>0.0</td>\n",
       "      <td>0.0</td>\n",
       "      <td>...</td>\n",
       "      <td>0.0</td>\n",
       "      <td>0.0</td>\n",
       "      <td>1.0</td>\n",
       "      <td>0.0</td>\n",
       "      <td>0.0</td>\n",
       "      <td>0.0</td>\n",
       "      <td>0.0</td>\n",
       "      <td>0.0</td>\n",
       "      <td>0.0</td>\n",
       "      <td>0.0</td>\n",
       "    </tr>\n",
       "    <tr>\n",
       "      <th>2</th>\n",
       "      <td>10.067242</td>\n",
       "      <td>0</td>\n",
       "      <td>10.862759</td>\n",
       "      <td>10.0</td>\n",
       "      <td>0.0</td>\n",
       "      <td>0.0</td>\n",
       "      <td>1.0</td>\n",
       "      <td>0.0</td>\n",
       "      <td>0.0</td>\n",
       "      <td>0.0</td>\n",
       "      <td>...</td>\n",
       "      <td>0.0</td>\n",
       "      <td>0.0</td>\n",
       "      <td>0.0</td>\n",
       "      <td>1.0</td>\n",
       "      <td>0.0</td>\n",
       "      <td>0.0</td>\n",
       "      <td>0.0</td>\n",
       "      <td>0.0</td>\n",
       "      <td>0.0</td>\n",
       "      <td>0.0</td>\n",
       "    </tr>\n",
       "  </tbody>\n",
       "</table>\n",
       "<p>3 rows × 59 columns</p>\n",
       "</div>"
      ],
      "text/plain": [
       "    신고중량(KG)  우범여부   과세가격원화금액   관세율  통관지세관부호_1  통관지세관부호_2  통관지세관부호_3  \\\n",
       "0   4.844187     1   8.593963   8.0        1.0        0.0        0.0   \n",
       "1  10.303820     0  13.258812   8.0        0.0        1.0        0.0   \n",
       "2  10.067242     0  10.862759  10.0        0.0        0.0        1.0   \n",
       "\n",
       "   통관지세관부호_4  통관지세관부호_5  통관지세관부호_6  ...  수입종류코드_10  징수형태코드_1  징수형태코드_2  \\\n",
       "0        0.0        0.0        0.0  ...        0.0       1.0       0.0   \n",
       "1        0.0        0.0        0.0  ...        0.0       0.0       1.0   \n",
       "2        0.0        0.0        0.0  ...        0.0       0.0       0.0   \n",
       "\n",
       "   징수형태코드_3  징수형태코드_4  징수형태코드_5  징수형태코드_6  징수형태코드_7  징수형태코드_8  징수형태코드_9  \n",
       "0       0.0       0.0       0.0       0.0       0.0       0.0       0.0  \n",
       "1       0.0       0.0       0.0       0.0       0.0       0.0       0.0  \n",
       "2       1.0       0.0       0.0       0.0       0.0       0.0       0.0  \n",
       "\n",
       "[3 rows x 59 columns]"
      ]
     },
     "execution_count": 37,
     "metadata": {},
     "output_type": "execute_result"
    }
   ],
   "source": [
    "# 훈련데이터 샘플 확인\n",
    "train.head(3)"
   ]
  },
  {
   "cell_type": "code",
   "execution_count": 38,
   "metadata": {},
   "outputs": [],
   "source": [
    "# 테스트데이터: 범주형 변수만 분리하여 원핫인코딩 적용\n",
    "df_test_cat = xgbohe.transform(df_test[discrete_columns])\n",
    "df_test_cat = pd.DataFrame(df_test_cat.toarray(), \n",
    "                               columns = xgbohe.get_feature_names(discrete_columns))\n",
    "# 수치형 변수 분리\n",
    "df_test_num = df_test[['신고중량(KG)','관세율','과세가격원화금액']]\n",
    "# 원핫인코딩된 범주형 변수와 수치형 변수 재결합\n",
    "df_org_test = pd.concat([df_test_num, df_test_cat], axis=1)"
   ]
  },
  {
   "cell_type": "code",
   "execution_count": 39,
   "metadata": {},
   "outputs": [],
   "source": [
    "# train set에서 학습데이터와 우범여부(target_label) 분리\n",
    "X_train = train.drop('우범여부', axis=1).values\n",
    "target_label = train['우범여부'].values\n",
    "X_test = df_org_test.values"
   ]
  },
  {
   "cell_type": "code",
   "execution_count": 40,
   "metadata": {},
   "outputs": [],
   "source": [
    "# # 수치형 변수 스케일링\n",
    "from sklearn.preprocessing import StandardScaler, MinMaxScaler\n",
    "\n",
    "scaler = StandardScaler()\n",
    "X_train = scaler.fit_transform(X_train) \n",
    "X_test = scaler.transform(X_test)"
   ]
  },
  {
   "cell_type": "code",
   "execution_count": 41,
   "metadata": {},
   "outputs": [],
   "source": [
    "# 학습용, 테스트용 데이터 분리\n",
    "from sklearn.model_selection import train_test_split\n",
    "\n",
    "trnx, tstx, trny, tsty = train_test_split(X_train, target_label, test_size=0.3, random_state=42)"
   ]
  },
  {
   "cell_type": "code",
   "execution_count": 42,
   "metadata": {},
   "outputs": [
    {
     "name": "stdout",
     "output_type": "stream",
     "text": [
      "SMOTE 적용 전 학습용 피처/레이블 데이터 세트:  (53785, 58) (53785,)\n",
      "SMOTE 적용 후 학습용 피처/레이블 데이터 세트:  (82864, 58) (82864,)\n",
      "SMOTE 적용 후 레이블 값 분포: \n",
      " 1    41432\n",
      "0    41432\n",
      "dtype: int64\n"
     ]
    }
   ],
   "source": [
    "# 데이터 불균형 처리, 범주 불균형 문제 해결 \n",
    "from imblearn.over_sampling import SMOTE\n",
    "print('SMOTE 적용 전 학습용 피처/레이블 데이터 세트: ', trnx.shape, trny.shape)\n",
    "smote = SMOTE(random_state=27)\n",
    "trnx,trny = smote.fit_resample(trnx,trny)\n",
    "print('SMOTE 적용 후 학습용 피처/레이블 데이터 세트: ', trnx.shape, trny.shape)\n",
    "print('SMOTE 적용 후 레이블 값 분포: \\n', pd.Series(trny).value_counts())"
   ]
  },
  {
   "cell_type": "markdown",
   "metadata": {},
   "source": [
    "# 4. 우범화물 예측 및 모델 성능 평가 <a id='id4'></a>"
   ]
  },
  {
   "cell_type": "markdown",
   "metadata": {},
   "source": [
    "## 4.1. MLPClassifier 모델 예측"
   ]
  },
  {
   "cell_type": "code",
   "execution_count": 43,
   "metadata": {},
   "outputs": [
    {
     "data": {
      "text/plain": [
       "MLPClassifier(hidden_layer_sizes=(10, 10))"
      ]
     },
     "execution_count": 43,
     "metadata": {},
     "output_type": "execute_result"
    }
   ],
   "source": [
    "from sklearn.neural_network import MLPClassifier\n",
    "\n",
    "# MLP 알고리즘의 히든레이어를 2계층(10,10)으로 할당\n",
    "mlp = MLPClassifier(hidden_layer_sizes=(10,10))\n",
    "\n",
    "# 위에서 분류한 trnx와 trny을 MLP를 이용해 학습\n",
    "mlp.fit(trnx, trny)"
   ]
  },
  {
   "cell_type": "code",
   "execution_count": 44,
   "metadata": {},
   "outputs": [],
   "source": [
    "# mlp로 학습한 내용을 tstx에 대해 예측하여 prediction변수에 저장\n",
    "prediction = mlp.predict(tstx)"
   ]
  },
  {
   "cell_type": "code",
   "execution_count": 45,
   "metadata": {},
   "outputs": [],
   "source": [
    "# 성능 지표 출력 함수 \n",
    "\n",
    "from sklearn.metrics import accuracy_score, precision_score, roc_auc_score, recall_score, f1_score, confusion_matrix\n",
    "\n",
    "def get_clf_eval(y_test, y_pred):\n",
    "    confusion = confusion_matrix(y_test, y_pred)\n",
    "    accuracy = accuracy_score(y_test, y_pred)\n",
    "    precision = precision_score(y_test, y_pred)\n",
    "    recall = recall_score(y_test, y_pred)\n",
    "    F1 = f1_score(y_test, y_pred)\n",
    "    AUC = roc_auc_score(y_test, y_pred)\n",
    "    print('오차행렬:\\n', confusion)\n",
    "    print('\\Accuracy: {:.4f}'.format(accuracy))\n",
    "    print('Precision: {:.4f}'.format(precision))\n",
    "    print('Recall: {:.4f}'.format(recall))\n",
    "    print('F1: {:.4f}'.format(F1))\n",
    "    print('AUC: {:.4f}'.format(AUC))"
   ]
  },
  {
   "cell_type": "markdown",
   "metadata": {},
   "source": [
    "## 4.2. 모델 예측 성능 평가"
   ]
  },
  {
   "cell_type": "code",
   "execution_count": 46,
   "metadata": {
    "scrolled": false
   },
   "outputs": [
    {
     "name": "stdout",
     "output_type": "stream",
     "text": [
      "오차행렬:\n",
      " [[12952  4881]\n",
      " [ 1557  3662]]\n",
      "\\Accuracy: 0.7207\n",
      "Precision: 0.4287\n",
      "Recall: 0.7017\n",
      "F1: 0.5322\n",
      "AUC: 0.7140\n"
     ]
    }
   ],
   "source": [
    "# Precision (적중률) = (검사선별된 우범건수)/(검사선별 건수)\n",
    "# Recall (적발률) = (검사선별된 우범건수) / (전체 우범건수)\n",
    "\n",
    "get_clf_eval(tsty, prediction)"
   ]
  },
  {
   "cell_type": "code",
   "execution_count": 47,
   "metadata": {},
   "outputs": [
    {
     "name": "stdout",
     "output_type": "stream",
     "text": [
      "0    16815\n",
      "1     6348\n",
      "Name: 0, dtype: int64\n"
     ]
    },
    {
     "data": {
      "text/plain": [
       "(23163,)"
      ]
     },
     "execution_count": 47,
     "metadata": {},
     "output_type": "execute_result"
    }
   ],
   "source": [
    "# test 결과 0(우범 아닌 것)과 1(우범인 것) 개수 \n",
    "prediction = mlp.predict(X_test)\n",
    "df = pd.DataFrame(prediction)\n",
    "print(df[0].value_counts())\n",
    "prediction.shape"
   ]
  },
  {
   "cell_type": "code",
   "execution_count": 48,
   "metadata": {},
   "outputs": [],
   "source": [
    "# submission.csv에 결과 저장\n",
    "df_submission['우범여부'] = prediction\n",
    "df_submission.to_csv('/Users/mini/Desktop/우범멈춰!.csv', index=False)"
   ]
  },
  {
   "cell_type": "code",
   "execution_count": 49,
   "metadata": {},
   "outputs": [],
   "source": [
    "######################################################################################################"
   ]
  }
 ],
 "metadata": {
  "kernelspec": {
   "display_name": "Python 3",
   "language": "python",
   "name": "python3"
  },
  "language_info": {
   "codemirror_mode": {
    "name": "ipython",
    "version": 3
   },
   "file_extension": ".py",
   "mimetype": "text/x-python",
   "name": "python",
   "nbconvert_exporter": "python",
   "pygments_lexer": "ipython3",
   "version": "3.6.13"
  }
 },
 "nbformat": 4,
 "nbformat_minor": 4
}
